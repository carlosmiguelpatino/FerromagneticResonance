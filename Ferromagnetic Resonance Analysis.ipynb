{
 "cells": [
  {
   "cell_type": "code",
   "execution_count": 1,
   "metadata": {
    "collapsed": false
   },
   "outputs": [],
   "source": [
    "import pandas as pd\n",
    "import numpy as np\n",
    "import seaborn as sb\n",
    "from scipy.fftpack import fft, fftfreq, fftshift\n",
    "from scipy import signal\n",
    "import matplotlib.pylab as plt\n",
    "%matplotlib inline"
   ]
  },
  {
   "cell_type": "code",
   "execution_count": 10,
   "metadata": {
    "collapsed": false
   },
   "outputs": [],
   "source": [
    "data = pd.read_csv(\"pulse.csv\")"
   ]
  },
  {
   "cell_type": "code",
   "execution_count": 11,
   "metadata": {
    "collapsed": false
   },
   "outputs": [
    {
     "data": {
      "text/html": [
       "<div>\n",
       "<table border=\"1\" class=\"dataframe\">\n",
       "  <thead>\n",
       "    <tr style=\"text-align: right;\">\n",
       "      <th></th>\n",
       "      <th>Oxs_RungeKuttaEvolve:evolve:Total energy (J)</th>\n",
       "      <th>Oxs_RungeKuttaEvolve:evolve:Energy calc count</th>\n",
       "      <th>Oxs_RungeKuttaEvolve:evolve:Max dm/dt (deg/ns)</th>\n",
       "      <th>Oxs_RungeKuttaEvolve:evolve:dE/dt (J/s)</th>\n",
       "      <th>Oxs_RungeKuttaEvolve:evolve:Delta E (J)</th>\n",
       "      <th>Oxs_CubicAnisotropy::Energy (J)</th>\n",
       "      <th>Oxs_UniformExchange::Energy (J)</th>\n",
       "      <th>Oxs_UniformExchange::Max Spin Ang (deg)</th>\n",
       "      <th>Oxs_UniformExchange::Stage Max Spin Ang (deg)</th>\n",
       "      <th>Oxs_UniformExchange::Run Max Spin Ang (deg)</th>\n",
       "      <th>...</th>\n",
       "      <th>Oxs_TimeDriver::Stage iteration</th>\n",
       "      <th>Oxs_TimeDriver::Stage</th>\n",
       "      <th>Oxs_TimeDriver::mx</th>\n",
       "      <th>Oxs_TimeDriver::my</th>\n",
       "      <th>Oxs_TimeDriver::mz</th>\n",
       "      <th>Oxs_TimeDriver::mx_corner</th>\n",
       "      <th>Oxs_TimeDriver::my_corner</th>\n",
       "      <th>Oxs_TimeDriver::mz_corner</th>\n",
       "      <th>Oxs_TimeDriver::Last time step (s)</th>\n",
       "      <th>Oxs_TimeDriver::Simulation time (s)</th>\n",
       "    </tr>\n",
       "  </thead>\n",
       "  <tbody>\n",
       "    <tr>\n",
       "      <th>0</th>\n",
       "      <td>-1.982833e-17</td>\n",
       "      <td>1</td>\n",
       "      <td>4682.757019</td>\n",
       "      <td>-4.721312e-08</td>\n",
       "      <td>0.000000e+00</td>\n",
       "      <td>-8.991726e-22</td>\n",
       "      <td>0.000000e+00</td>\n",
       "      <td>0.000000</td>\n",
       "      <td>0.000000</td>\n",
       "      <td>0.000000</td>\n",
       "      <td>...</td>\n",
       "      <td>0</td>\n",
       "      <td>0</td>\n",
       "      <td>0.999750</td>\n",
       "      <td>0.019995</td>\n",
       "      <td>0.009998</td>\n",
       "      <td>0.999750</td>\n",
       "      <td>0.019995</td>\n",
       "      <td>0.009998</td>\n",
       "      <td>0.000000e+00</td>\n",
       "      <td>0.000000e+00</td>\n",
       "    </tr>\n",
       "    <tr>\n",
       "      <th>1</th>\n",
       "      <td>-1.982843e-17</td>\n",
       "      <td>7</td>\n",
       "      <td>4682.848356</td>\n",
       "      <td>-4.706827e-08</td>\n",
       "      <td>-9.563524e-23</td>\n",
       "      <td>-8.965681e-22</td>\n",
       "      <td>3.780805e-26</td>\n",
       "      <td>0.003734</td>\n",
       "      <td>0.003734</td>\n",
       "      <td>0.003734</td>\n",
       "      <td>...</td>\n",
       "      <td>1</td>\n",
       "      <td>0</td>\n",
       "      <td>0.999751</td>\n",
       "      <td>0.019994</td>\n",
       "      <td>0.009927</td>\n",
       "      <td>0.999751</td>\n",
       "      <td>0.019995</td>\n",
       "      <td>0.009895</td>\n",
       "      <td>2.028719e-15</td>\n",
       "      <td>2.028719e-15</td>\n",
       "    </tr>\n",
       "    <tr>\n",
       "      <th>2</th>\n",
       "      <td>-1.982881e-17</td>\n",
       "      <td>13</td>\n",
       "      <td>4683.204707</td>\n",
       "      <td>-4.648890e-08</td>\n",
       "      <td>-3.796025e-22</td>\n",
       "      <td>-8.863557e-22</td>\n",
       "      <td>9.451572e-25</td>\n",
       "      <td>0.018669</td>\n",
       "      <td>0.018669</td>\n",
       "      <td>0.018669</td>\n",
       "      <td>...</td>\n",
       "      <td>2</td>\n",
       "      <td>0</td>\n",
       "      <td>0.999754</td>\n",
       "      <td>0.019989</td>\n",
       "      <td>0.009647</td>\n",
       "      <td>0.999755</td>\n",
       "      <td>0.019998</td>\n",
       "      <td>0.009485</td>\n",
       "      <td>8.114878e-15</td>\n",
       "      <td>1.014360e-14</td>\n",
       "    </tr>\n",
       "    <tr>\n",
       "      <th>3</th>\n",
       "      <td>-1.983028e-17</td>\n",
       "      <td>19</td>\n",
       "      <td>4684.485768</td>\n",
       "      <td>-4.417149e-08</td>\n",
       "      <td>-1.471397e-21</td>\n",
       "      <td>-8.487976e-22</td>\n",
       "      <td>1.666928e-23</td>\n",
       "      <td>0.078370</td>\n",
       "      <td>0.078370</td>\n",
       "      <td>0.078370</td>\n",
       "      <td>...</td>\n",
       "      <td>3</td>\n",
       "      <td>0</td>\n",
       "      <td>0.999764</td>\n",
       "      <td>0.019972</td>\n",
       "      <td>0.008525</td>\n",
       "      <td>0.999769</td>\n",
       "      <td>0.020008</td>\n",
       "      <td>0.007844</td>\n",
       "      <td>3.245951e-14</td>\n",
       "      <td>4.260311e-14</td>\n",
       "    </tr>\n",
       "    <tr>\n",
       "      <th>4</th>\n",
       "      <td>-1.983541e-17</td>\n",
       "      <td>25</td>\n",
       "      <td>4687.275895</td>\n",
       "      <td>-3.488107e-08</td>\n",
       "      <td>-5.132592e-21</td>\n",
       "      <td>-7.512176e-22</td>\n",
       "      <td>2.728341e-22</td>\n",
       "      <td>0.316444</td>\n",
       "      <td>0.316444</td>\n",
       "      <td>0.316444</td>\n",
       "      <td>...</td>\n",
       "      <td>4</td>\n",
       "      <td>0</td>\n",
       "      <td>0.999791</td>\n",
       "      <td>0.019954</td>\n",
       "      <td>0.004039</td>\n",
       "      <td>0.999792</td>\n",
       "      <td>0.020084</td>\n",
       "      <td>0.001285</td>\n",
       "      <td>1.298380e-13</td>\n",
       "      <td>1.724411e-13</td>\n",
       "    </tr>\n",
       "  </tbody>\n",
       "</table>\n",
       "<p>5 rows × 28 columns</p>\n",
       "</div>"
      ],
      "text/plain": [
       "     Oxs_RungeKuttaEvolve:evolve:Total energy (J)  \\\n",
       "0                                   -1.982833e-17   \n",
       "1                                   -1.982843e-17   \n",
       "2                                   -1.982881e-17   \n",
       "3                                   -1.983028e-17   \n",
       "4                                   -1.983541e-17   \n",
       "\n",
       "    Oxs_RungeKuttaEvolve:evolve:Energy calc count  \\\n",
       "0                                               1   \n",
       "1                                               7   \n",
       "2                                              13   \n",
       "3                                              19   \n",
       "4                                              25   \n",
       "\n",
       "    Oxs_RungeKuttaEvolve:evolve:Max dm/dt (deg/ns)  \\\n",
       "0                                      4682.757019   \n",
       "1                                      4682.848356   \n",
       "2                                      4683.204707   \n",
       "3                                      4684.485768   \n",
       "4                                      4687.275895   \n",
       "\n",
       "    Oxs_RungeKuttaEvolve:evolve:dE/dt (J/s)  \\\n",
       "0                             -4.721312e-08   \n",
       "1                             -4.706827e-08   \n",
       "2                             -4.648890e-08   \n",
       "3                             -4.417149e-08   \n",
       "4                             -3.488107e-08   \n",
       "\n",
       "    Oxs_RungeKuttaEvolve:evolve:Delta E (J)   Oxs_CubicAnisotropy::Energy (J)  \\\n",
       "0                              0.000000e+00                     -8.991726e-22   \n",
       "1                             -9.563524e-23                     -8.965681e-22   \n",
       "2                             -3.796025e-22                     -8.863557e-22   \n",
       "3                             -1.471397e-21                     -8.487976e-22   \n",
       "4                             -5.132592e-21                     -7.512176e-22   \n",
       "\n",
       "    Oxs_UniformExchange::Energy (J)   Oxs_UniformExchange::Max Spin Ang (deg)  \\\n",
       "0                      0.000000e+00                                  0.000000   \n",
       "1                      3.780805e-26                                  0.003734   \n",
       "2                      9.451572e-25                                  0.018669   \n",
       "3                      1.666928e-23                                  0.078370   \n",
       "4                      2.728341e-22                                  0.316444   \n",
       "\n",
       "    Oxs_UniformExchange::Stage Max Spin Ang (deg)  \\\n",
       "0                                        0.000000   \n",
       "1                                        0.003734   \n",
       "2                                        0.018669   \n",
       "3                                        0.078370   \n",
       "4                                        0.316444   \n",
       "\n",
       "    Oxs_UniformExchange::Run Max Spin Ang (deg)  \\\n",
       "0                                      0.000000   \n",
       "1                                      0.003734   \n",
       "2                                      0.018669   \n",
       "3                                      0.078370   \n",
       "4                                      0.316444   \n",
       "\n",
       "                   ...                    Oxs_TimeDriver::Stage iteration  \\\n",
       "0                  ...                                                  0   \n",
       "1                  ...                                                  1   \n",
       "2                  ...                                                  2   \n",
       "3                  ...                                                  3   \n",
       "4                  ...                                                  4   \n",
       "\n",
       "    Oxs_TimeDriver::Stage   Oxs_TimeDriver::mx   Oxs_TimeDriver::my  \\\n",
       "0                       0             0.999750             0.019995   \n",
       "1                       0             0.999751             0.019994   \n",
       "2                       0             0.999754             0.019989   \n",
       "3                       0             0.999764             0.019972   \n",
       "4                       0             0.999791             0.019954   \n",
       "\n",
       "    Oxs_TimeDriver::mz   Oxs_TimeDriver::mx_corner  \\\n",
       "0             0.009998                    0.999750   \n",
       "1             0.009927                    0.999751   \n",
       "2             0.009647                    0.999755   \n",
       "3             0.008525                    0.999769   \n",
       "4             0.004039                    0.999792   \n",
       "\n",
       "    Oxs_TimeDriver::my_corner   Oxs_TimeDriver::mz_corner  \\\n",
       "0                    0.019995                    0.009998   \n",
       "1                    0.019995                    0.009895   \n",
       "2                    0.019998                    0.009485   \n",
       "3                    0.020008                    0.007844   \n",
       "4                    0.020084                    0.001285   \n",
       "\n",
       "    Oxs_TimeDriver::Last time step (s)   Oxs_TimeDriver::Simulation time (s)  \n",
       "0                         0.000000e+00                          0.000000e+00  \n",
       "1                         2.028719e-15                          2.028719e-15  \n",
       "2                         8.114878e-15                          1.014360e-14  \n",
       "3                         3.245951e-14                          4.260311e-14  \n",
       "4                         1.298380e-13                          1.724411e-13  \n",
       "\n",
       "[5 rows x 28 columns]"
      ]
     },
     "execution_count": 11,
     "metadata": {},
     "output_type": "execute_result"
    }
   ],
   "source": [
    "data.head()"
   ]
  },
  {
   "cell_type": "code",
   "execution_count": 22,
   "metadata": {
    "collapsed": false
   },
   "outputs": [],
   "source": [
    "time = data.ix[:,27]\n",
    "mz =data.ix[:,22]"
   ]
  },
  {
   "cell_type": "code",
   "execution_count": 23,
   "metadata": {
    "collapsed": false
   },
   "outputs": [
    {
     "data": {
      "text/plain": [
       "[<matplotlib.lines.Line2D at 0x7fe8e0d68ef0>]"
      ]
     },
     "execution_count": 23,
     "metadata": {},
     "output_type": "execute_result"
    },
    {
     "data": {
      "image/png": "[encoded data removed]",
      "text/plain": [
       "<matplotlib.figure.Figure at 0x7fe8e313e240>"
      ]
     },
     "metadata": {},
     "output_type": "display_data"
    }
   ],
   "source": [
    "#sb.regplot(x = data['Time'], y = data['mz'], scatter = True, fit_reg=False)\n",
    "plt.plot(time, mz)"
   ]
  },
  {
   "cell_type": "code",
   "execution_count": 5,
   "metadata": {
    "collapsed": false
   },
   "outputs": [],
   "source": [
    "dt = data['Time'][1] - data['Time'][0]\n",
    "n = len(data['mz']) \n",
    "mz_fft = fft(data['mz'])/n\n",
    "freq = fftfreq(n, dt)\n",
    "\n",
    "\n",
    "#Shift frequencies\n",
    "mz_fft_shifted = np.fft.fftshift(mz_fft)\n",
    "freq_shifted = np.fft.fftshift(freq)"
   ]
  },
  {
   "cell_type": "code",
   "execution_count": 6,
   "metadata": {
    "collapsed": false
   },
   "outputs": [
    {
     "data": {
      "text/plain": [
       "(0, 40000000000000.0)"
      ]
     },
     "execution_count": 6,
     "metadata": {},
     "output_type": "execute_result"
    },
    {
     "data": {
      "image/png": "[encoded data removed]",
      "text/plain": [
       "<matplotlib.figure.Figure at 0x7f0405861a58>"
      ]
     },
     "metadata": {},
     "output_type": "display_data"
    }
   ],
   "source": [
    "plt.plot(freq_shifted, abs(mz_fft_shifted))\n",
    "plt.xlim(0, 0.4e14)"
   ]
  },
  {
   "cell_type": "code",
   "execution_count": 7,
   "metadata": {
    "collapsed": false
   },
   "outputs": [
    {
     "name": "stdout",
     "output_type": "stream",
     "text": [
      "The dominating frequency is 1.13e+13 Hz\n"
     ]
    }
   ],
   "source": [
    "max_freq = freq[mz_fft.argmax()]\n",
    "print('The dominating frequency is {0:.3g} Hz'.format(max_freq))"
   ]
  },
  {
   "cell_type": "code",
   "execution_count": 15,
   "metadata": {
    "collapsed": false
   },
   "outputs": [],
   "source": [
    "peakind = signal.find_peaks_cwt(abs(mz_fft), np.arange(1,80))\n",
    "peaks = []\n",
    "x_peaks = []\n",
    "for index in peakind:\n",
    "    x_peaks.append(freq[index])\n",
    "    peaks.append(abs(mz_fft[index]))\n",
    "    \n",
    "    \n",
    "    "
   ]
  },
  {
   "cell_type": "code",
   "execution_count": 16,
   "metadata": {
    "collapsed": false
   },
   "outputs": [
    {
     "data": {
      "text/plain": [
       "(0, 20000000000000.0)"
      ]
     },
     "execution_count": 16,
     "metadata": {},
     "output_type": "execute_result"
    },
    {
     "data": {
      "image/png": "[encoded data removed]",
      "text/plain": [
       "<matplotlib.figure.Figure at 0x7f040570df98>"
      ]
     },
     "metadata": {},
     "output_type": "display_data"
    }
   ],
   "source": [
    "plt.scatter(x_peaks, peaks)\n",
    "plt.plot(freq_shifted, abs(mz_fft_shifted))\n",
    "plt.xlim(0, 0.2e14)"
   ]
  },
  {
   "cell_type": "code",
   "execution_count": 39,
   "metadata": {
    "collapsed": false
   },
   "outputs": [
    {
     "name": "stdout",
     "output_type": "stream",
     "text": [
      "72\n"
     ]
    }
   ],
   "source": [
    "print(len(peakind))"
   ]
  },
  {
   "cell_type": "code",
   "execution_count": 24,
   "metadata": {
    "collapsed": false
   },
   "outputs": [
    {
     "data": {
      "text/plain": [
       "[<matplotlib.lines.Line2D at 0x7f04056d5be0>]"
      ]
     },
     "execution_count": 24,
     "metadata": {},
     "output_type": "execute_result"
    },
    {
     "data": {
      "image/png": "[encoded data removed]",
      "text/plain": [
       "<matplotlib.figure.Figure at 0x7f0405859ac8>"
      ]
     },
     "metadata": {},
     "output_type": "display_data"
    }
   ],
   "source": [
    "x = np.linspace(0, 6.5, 100000)\n",
    "y = np.sin(x)*np.sin(10*x)\n",
    "plt.plot(x,y)"
   ]
  },
  {
   "cell_type": "code",
   "execution_count": 27,
   "metadata": {
    "collapsed": false
   },
   "outputs": [
    {
     "data": {
      "text/plain": [
       "[<matplotlib.lines.Line2D at 0x7f040533da58>]"
      ]
     },
     "execution_count": 27,
     "metadata": {},
     "output_type": "execute_result"
    },
    {
     "data": {
      "image/png": "[encoded data removed]",
      "text/plain": [
       "<matplotlib.figure.Figure at 0x7f0405407c18>"
      ]
     },
     "metadata": {},
     "output_type": "display_data"
    }
   ],
   "source": [
    "n = len(x) \n",
    "dt = x[1]-x[0]\n",
    "y_fft = fft(y)/n\n",
    "freq_x = fftfreq(n, dt)\n",
    "\n",
    "y_fft_shift = np.fft.fftshift(y_fft)\n",
    "freq_x_shifted = np.fft.fftshift(freq_x)\n",
    "plt.plot(freq_x_shifted, abs(y_fft_shift))"
   ]
  },
  {
   "cell_type": "code",
   "execution_count": null,
   "metadata": {
    "collapsed": true
   },
   "outputs": [],
   "source": []
  }
 ],
 "metadata": {
  "kernelspec": {
   "display_name": "Python 3",
   "language": "python",
   "name": "python3"
  },
  "language_info": {
   "codemirror_mode": {
    "name": "ipython",
    "version": 3
   },
   "file_extension": ".py",
   "mimetype": "text/x-python",
   "name": "python",
   "nbconvert_exporter": "python",
   "pygments_lexer": "ipython3",
   "version": "3.5.2"
  }
 },
 "nbformat": 4,
 "nbformat_minor": 0
}
